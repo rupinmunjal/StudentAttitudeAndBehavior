{
 "cells": [
  {
   "cell_type": "code",
   "execution_count": 2,
   "metadata": {},
   "outputs": [],
   "source": [
    "# Import the requests library for making HTTP requests and the json library for handling JSON data.\n",
    "import requests\n",
    "import json"
   ]
  },
  {
   "cell_type": "code",
   "execution_count": 3,
   "metadata": {},
   "outputs": [
    {
     "name": "stdout",
     "output_type": "stream",
     "text": [
      "{\n",
      "    \"10th Mark\": 79.0,\n",
      "    \"12th Mark\": 64.0,\n",
      "    \"Certification Course\": 0.0,\n",
      "    \"Do you like your degree?\": 0.0,\n",
      "    \"Stress Level \": 0.0,\n",
      "    \"Travelling Time \": 1.0,\n",
      "    \"college mark\": 80.0,\n",
      "    \"daily studing time\": 0.0,\n",
      "    \"part-time job\": 0.0\n",
      "}\n"
     ]
    }
   ],
   "source": [
    "def jprint(obj):\n",
    "    # Format and print JSON data with sorted keys and indentation.\n",
    "    text = json.dumps(obj, sort_keys=True, indent=4)\n",
    "    print(text)\n",
    "\n",
    "response = requests.get(\"http://127.0.0.1:5000/career/sample\")  # Send GET request to fetch sample data.\n",
    "jprint(response.json())  # Print the formatted JSON response."
   ]
  },
  {
   "cell_type": "code",
   "execution_count": 4,
   "metadata": {},
   "outputs": [
    {
     "name": "stdout",
     "output_type": "stream",
     "text": [
      "Explanation: \n",
      "\n",
      "The sample at '/career/sample' is a JSON representation of the first row of the DataFrame after removing the 'willingness to pursue a career based on their degree' column. It illustrates the data structure and content post-column removal.\n",
      "\n",
      "The algorithm predicts how students' attitudes and behaviors impact their academic success and school involvement.\n",
      "\n",
      "Column Details:\n",
      "1. Certification Course: 0 for No, 1 for Yes.\n",
      "2. 10th Mark: Float value representing percentage or grade.\n",
      "3. 12th Mark: Float value representing percentage or grade.\n",
      "4. College Mark: Float value representing percentage or grade.\n",
      "5. Daily Studying Time: 0 for 0 - 30 minutes, 1 for 30 - 60 minutes, 2 for 1 - 2 hours, 3 for 2 - 3 hours, 4 for 3 - 4 hours, 5 for More Than 4 hours.\n",
      "6. Do You Like Your Degree?: 0 for No, 1 for Yes.\n",
      "7. Travelling Time: 0 for 0 - 30 minutes, 1 for 30 - 60 minutes, 2 for 1 - 1.30 hours, 3 for 1.30 - 2 hours, 4 for 2 - 2.30 hours, 5 for 2.30 - 3 hours, 6 for More than 3 hours.\n",
      "8. Stress Level: 0 for Bad, 1 for Awful, 2 for Good, 3 for Fabulous.\n",
      "9. Part-Time Job: 0 for No, 1 for Yes.\n",
      "\n",
      "URL: http://127.0.0.1:5000/career/evaluate\n",
      "\n",
      "Description: Evaluate data by submitting JSON formatted data similar to the sample entry. The response will be a float indicating the predicted willingness to learn based on the provided data.\n"
     ]
    }
   ],
   "source": [
    "response = requests.get(\"http://127.0.0.1:5000/career/explain\")  # Send GET request to fetch explanation.\n",
    "print(response.text)  # Print the raw text response."
   ]
  },
  {
   "cell_type": "markdown",
   "metadata": {},
   "source": [
    "5 Sample Tests"
   ]
  },
  {
   "cell_type": "code",
   "execution_count": 30,
   "metadata": {},
   "outputs": [
    {
     "name": "stdout",
     "output_type": "stream",
     "text": [
      "75.0\n"
     ]
    }
   ],
   "source": [
    "# Sample 1\n",
    "\n",
    "newStu = {\n",
    "    \"Certification Course\": 1.0,\n",
    "    \"10th Mark\": 85.0,\n",
    "    \"12th Mark\": 70.0,\n",
    "    \"college mark\": 90.0,\n",
    "    \"daily studing time\": 2.0,\n",
    "    \"Do you like your degree?\": 1.0,\n",
    "    \"Travelling Time \": 2.0,\n",
    "    \"Stress Level \": 1.0,\n",
    "    \"part-time job\": 1.0\n",
    "}\n",
    "response=requests.post(\"http://127.0.0.1:5000/career/evaluate\", json=newStu)\n",
    "jprint(response.json())"
   ]
  },
  {
   "cell_type": "code",
   "execution_count": 13,
   "metadata": {},
   "outputs": [
    {
     "name": "stdout",
     "output_type": "stream",
     "text": [
      "75.0\n"
     ]
    }
   ],
   "source": [
    "# Sample 2\n",
    "\n",
    "newStu = {\n",
    "    \"Certification Course\": 0.0,\n",
    "    \"10th Mark\": 65.0,\n",
    "    \"12th Mark\": 60.0,\n",
    "    \"college mark\": 70.0,\n",
    "    \"daily studing time\": 1.0,\n",
    "    \"Do you like your degree?\": 0.0,\n",
    "    \"Travelling Time \": 3.0,\n",
    "    \"Stress Level \": 1.0,\n",
    "    \"part-time job\": 1.0\n",
    "}\n",
    "response = requests.post(\"http://127.0.0.1:5000/career/evaluate\", json=newStu)\n",
    "print(response.json())\n"
   ]
  },
  {
   "cell_type": "code",
   "execution_count": 14,
   "metadata": {},
   "outputs": [
    {
     "name": "stdout",
     "output_type": "stream",
     "text": [
      "100.0\n"
     ]
    }
   ],
   "source": [
    "# Sample 3\n",
    "\n",
    "newStu = {\n",
    "    \"Certification Course\": 1.0,\n",
    "    \"10th Mark\": 75.0,\n",
    "    \"12th Mark\": 85.0,\n",
    "    \"college mark\": 90.0,\n",
    "    \"daily studing time\": 4.0,\n",
    "    \"Do you like your degree?\": 1.0,\n",
    "    \"Travelling Time \": 1.0,\n",
    "    \"Stress Level \": 0.0,\n",
    "    \"part-time job\": 0.0\n",
    "}\n",
    "response = requests.post(\"http://127.0.0.1:5000/career/evaluate\", json=newStu)\n",
    "print(response.json())"
   ]
  },
  {
   "cell_type": "code",
   "execution_count": 15,
   "metadata": {},
   "outputs": [
    {
     "name": "stdout",
     "output_type": "stream",
     "text": [
      "75.0\n"
     ]
    }
   ],
   "source": [
    "# Sample 4\n",
    "\n",
    "newStu = {\n",
    "    \"Certification Course\": 0.0,\n",
    "    \"10th Mark\": 80.0,\n",
    "    \"12th Mark\": 55.0,\n",
    "    \"college mark\": 65.0,\n",
    "    \"daily studing time\": 2.0,\n",
    "    \"Do you like your degree?\": 0.0,\n",
    "    \"Travelling Time \": 4.0,\n",
    "    \"Stress Level \": 2.0,\n",
    "    \"part-time job\": 1.0\n",
    "}\n",
    "response = requests.post(\"http://127.0.0.1:5000/career/evaluate\", json=newStu)\n",
    "print(response.json())"
   ]
  },
  {
   "cell_type": "code",
   "execution_count": 28,
   "metadata": {},
   "outputs": [
    {
     "name": "stdout",
     "output_type": "stream",
     "text": [
      "75.0\n"
     ]
    }
   ],
   "source": [
    "# Sample 5\n",
    "\n",
    "newStu = {\n",
    "    \"Certification Course\": 0.0,\n",
    "    \"10th Mark\": 30.0,\n",
    "    \"12th Mark\": 0.0,\n",
    "    \"college mark\": 30.0,\n",
    "    \"daily studing time\": 0.0,\n",
    "    \"Do you like your degree?\": 0.0,\n",
    "    \"Travelling Time \": 5.0,\n",
    "    \"Stress Level \": 4.0,\n",
    "    \"part-time job\": 1.0\n",
    "}\n",
    "response = requests.post(\"http://127.0.0.1:5000/career/evaluate\", json=newStu)\n",
    "print(response.json())"
   ]
  }
 ],
 "metadata": {
  "kernelspec": {
   "display_name": "base",
   "language": "python",
   "name": "python3"
  },
  "language_info": {
   "codemirror_mode": {
    "name": "ipython",
    "version": 3
   },
   "file_extension": ".py",
   "mimetype": "text/x-python",
   "name": "python",
   "nbconvert_exporter": "python",
   "pygments_lexer": "ipython3",
   "version": "3.11.7"
  }
 },
 "nbformat": 4,
 "nbformat_minor": 2
}
